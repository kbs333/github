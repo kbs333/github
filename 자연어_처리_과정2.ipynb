{
  "nbformat": 4,
  "nbformat_minor": 0,
  "metadata": {
    "colab": {
      "name": "자연어 처리 과정2.ipynb",
      "provenance": [],
      "authorship_tag": "ABX9TyPsgpp+mX89xVQmHBVBXq71",
      "include_colab_link": true
    },
    "kernelspec": {
      "name": "python3",
      "display_name": "Python 3"
    }
  },
  "cells": [
    {
      "cell_type": "markdown",
      "metadata": {
        "id": "view-in-github",
        "colab_type": "text"
      },
      "source": [
        "<a href=\"https://colab.research.google.com/github/kbs333/github/blob/master/%EC%9E%90%EC%97%B0%EC%96%B4_%EC%B2%98%EB%A6%AC_%EA%B3%BC%EC%A0%952.ipynb\" target=\"_parent\"><img src=\"https://colab.research.google.com/assets/colab-badge.svg\" alt=\"Open In Colab\"/></a>"
      ]
    },
    {
      "cell_type": "code",
      "metadata": {
        "id": "PCIc9G-6E1Ux",
        "colab_type": "code",
        "colab": {
          "base_uri": "https://localhost:8080/",
          "height": 69
        },
        "outputId": "7077d206-b202-4d49-f716-10e6698a50df"
      },
      "source": [
        "from sklearn.feature_extraction.text import CountVectorizer\n",
        "\n",
        "d1 = \"The cat sat on my face I hate a cat\"\n",
        "d2 = \"The dog sat on my bed I love a dog\"\n",
        "\n",
        "corpus = [d1, d2]\n",
        "count_vect = CountVectorizer()\n",
        "countv = count_vect.fit_transform(corpus)\n",
        "print(countv.toarray())\n",
        "print(count_vect.vocabulary_)"
      ],
      "execution_count": null,
      "outputs": [
        {
          "output_type": "stream",
          "text": [
            "[[0 2 0 1 1 0 1 1 1 1]\n",
            " [1 0 2 0 0 1 1 1 1 1]]\n",
            "{'the': 9, 'cat': 1, 'sat': 8, 'on': 7, 'my': 6, 'face': 3, 'hate': 4, 'dog': 2, 'bed': 0, 'love': 5}\n"
          ],
          "name": "stdout"
        }
      ]
    },
    {
      "cell_type": "code",
      "metadata": {
        "id": "lInmkcCtFr1Q",
        "colab_type": "code",
        "colab": {
          "base_uri": "https://localhost:8080/",
          "height": 34
        },
        "outputId": "6b0ff8ef-13a2-40f8-bba4-621dd26bd670"
      },
      "source": [
        "import gensim.downloader as api\n",
        "from gensim.models import TfidfModel\n",
        "from gensim import corpora\n",
        "\n",
        "d1 = \"The cat sat on my face I hate a cat\"\n",
        "d2 = \"The dog sat on my bed I love a dog\"\n",
        "corpus = [d1, d2]\n",
        "\n",
        "doc_ls = [doc.split() for doc in corpus]\n",
        "id2word = corpora.Dictionary(doc_ls)\n",
        "corpus = [id2word.doc2bow(doc) for doc in doc_ls]\n",
        "\n",
        "tfidf = TfidfModel(corpus)\n",
        "vector = tfidf[corpus[0]]\n",
        "\n",
        "tfidf[corpus][0]"
      ],
      "execution_count": null,
      "outputs": [
        {
          "output_type": "execute_result",
          "data": {
            "text/plain": [
              "[(3, 0.8164965809277261), (4, 0.4082482904638631), (5, 0.4082482904638631)]"
            ]
          },
          "metadata": {
            "tags": []
          },
          "execution_count": 6
        }
      ]
    },
    {
      "cell_type": "code",
      "metadata": {
        "id": "XfZi8KYwHA91",
        "colab_type": "code",
        "colab": {
          "base_uri": "https://localhost:8080/",
          "height": 34
        },
        "outputId": "9269a831-1c5d-4ccd-ce34-7466235dd721"
      },
      "source": [
        "docs = ['오늘 동물원에서 원숭이를 봤어',\n",
        "        '오늘 동물원에서 코끼리를 봤어 봤어',\n",
        "        '동물원에서 원숭이에게 바나나를 줬어 바나나를']\n",
        "\n",
        "from sklearn.feature_extraction.text import CountVectorizer\n",
        "\n",
        "count_vect = CountVectorizer()\n",
        "BoW = count_vect.fit_transform(docs)\n",
        "\n",
        "BoW.toarray()[0]"
      ],
      "execution_count": null,
      "outputs": [
        {
          "output_type": "execute_result",
          "data": {
            "text/plain": [
              "array([1, 0, 1, 1, 1, 0, 0, 0])"
            ]
          },
          "metadata": {
            "tags": []
          },
          "execution_count": 8
        }
      ]
    },
    {
      "cell_type": "code",
      "metadata": {
        "id": "ohnvfvhKOfsA",
        "colab_type": "code",
        "colab": {
          "base_uri": "https://localhost:8080/",
          "height": 133
        },
        "outputId": "10816260-6216-4f5d-d95b-b5a8898adac8"
      },
      "source": [
        "from IPython.core import display as ICD\n",
        "\n",
        "vocab = count_vect.get_feature_names()\n",
        "for i in range(len(docs)):\n",
        "    "
      ],
      "execution_count": null,
      "outputs": [
        {
          "output_type": "error",
          "ename": "SyntaxError",
          "evalue": "ignored",
          "traceback": [
            "\u001b[0;36m  File \u001b[0;32m\"<ipython-input-9-d969fb4c34ef>\"\u001b[0;36m, line \u001b[0;32m5\u001b[0m\n\u001b[0;31m    \u001b[0m\n\u001b[0m    ^\u001b[0m\n\u001b[0;31mSyntaxError\u001b[0m\u001b[0;31m:\u001b[0m unexpected EOF while parsing\n"
          ]
        }
      ]
    },
    {
      "cell_type": "code",
      "metadata": {
        "id": "7FIqLxR6PaKV",
        "colab_type": "code",
        "colab": {
          "base_uri": "https://localhost:8080/",
          "height": 69
        },
        "outputId": "aa42d90a-4d5f-4e56-8270-246b809af0b1"
      },
      "source": [
        "docs = ['오늘 동물원에서 원숭이를 봤어',\n",
        "        '오늘 동물원에서 코끼리를 봤어 봤어',\n",
        "        '동물원에서 원숭이에게 바나나를 줬어 바나나를']\n",
        "\n",
        "from sklearn.feature_extraction.text import CountVectorizer\n",
        "\n",
        "count_vect = CountVectorizer()\n",
        "BoW = count_vect.fit_transform(docs)\n",
        "BoW\n",
        "BoW.toarray()"
      ],
      "execution_count": null,
      "outputs": [
        {
          "output_type": "execute_result",
          "data": {
            "text/plain": [
              "array([[1, 0, 1, 1, 1, 0, 0, 0],\n",
              "       [1, 0, 2, 1, 0, 0, 0, 1],\n",
              "       [1, 2, 0, 0, 0, 1, 1, 0]])"
            ]
          },
          "metadata": {
            "tags": []
          },
          "execution_count": 19
        }
      ]
    },
    {
      "cell_type": "code",
      "metadata": {
        "id": "82EZte_cQO6U",
        "colab_type": "code",
        "colab": {}
      },
      "source": [
        "list_ = [\"딸기\", \"바나나\", \"사과\", \"딸기\", \"파인애플\"]\n",
        "list_2 = list(set(list_))\n",
        "\n",
        "all_word_count = len(list_)\n",
        "# dict1 = dict()\n",
        "\n",
        "# i = 0\n",
        "# for word in list_:\n",
        "#     dict1[word] = i\n",
        "#     i += 1\n",
        "\n",
        "# win = int(input(\"window 길이는: \"))\n",
        "win = 2\n",
        "list_3 = []\n",
        "for i in range(len(list_)):\n",
        "    if (i + win) > len(list_):\n",
        "        continue\n",
        "    list_3.append(list_[i : i+win])\n",
        "\n",
        "importance = 1\n",
        "dict2 = dict()\n",
        "for word1 in list_2:\n",
        "    count = 0\n",
        "    for word2 in list_3:\n",
        "        if word1 in word2:\n",
        "            count += 1\n",
        "    dict2[word1] = importance / count\n",
        "\n"
      ],
      "execution_count": 86,
      "outputs": []
    },
    {
      "cell_type": "markdown",
      "metadata": {
        "id": "fuIZs0ty-Z5e",
        "colab_type": "text"
      },
      "source": [
        "### Textrank 과정"
      ]
    },
    {
      "cell_type": "code",
      "metadata": {
        "id": "RbBsDJgBKtSe",
        "colab_type": "code",
        "colab": {
          "base_uri": "https://localhost:8080/",
          "height": 34
        },
        "outputId": "33b46b11-1226-4d40-b13f-871a51921c12"
      },
      "source": [
        "list_ = [\"딸기\", \"바나나\", \"사과\", \"딸기\", \"파인애플\"]\n",
        "list_2 = list(set(list_))\n",
        "\n",
        "i = 0\n",
        "dict1 = dict()\n",
        "for word in list_2:\n",
        "    dict1[word] = i\n",
        "    i += 1\n",
        "dict1"
      ],
      "execution_count": 89,
      "outputs": [
        {
          "output_type": "execute_result",
          "data": {
            "text/plain": [
              "{'딸기': 1, '바나나': 0, '사과': 2, '파인애플': 3}"
            ]
          },
          "metadata": {
            "tags": []
          },
          "execution_count": 89
        }
      ]
    },
    {
      "cell_type": "code",
      "metadata": {
        "id": "5mfXHfPLX_2n",
        "colab_type": "code",
        "colab": {
          "base_uri": "https://localhost:8080/",
          "height": 34
        },
        "outputId": "2d03f57e-fea8-4c74-ab98-73fd470e1479"
      },
      "source": [
        "win = 2\n",
        "list_3 = []\n",
        "for i in range(len(list_)):\n",
        "    if (i + win) > len(list_):\n",
        "        continue\n",
        "    list_3.append(list_[i : i+win])\n",
        "list_3"
      ],
      "execution_count": 90,
      "outputs": [
        {
          "output_type": "execute_result",
          "data": {
            "text/plain": [
              "[['딸기', '바나나'], ['바나나', '사과'], ['사과', '딸기'], ['딸기', '파인애플']]"
            ]
          },
          "metadata": {
            "tags": []
          },
          "execution_count": 90
        }
      ]
    },
    {
      "cell_type": "code",
      "metadata": {
        "id": "t8Npe1aLeYiZ",
        "colab_type": "code",
        "colab": {
          "base_uri": "https://localhost:8080/",
          "height": 34
        },
        "outputId": "c1d00672-1644-4219-efa6-2afde7f4e501"
      },
      "source": [
        "for i in range(len(list_3)):\n",
        "    for j in range(len(list_3[i])):\n",
        "        list_3[i][j] = dict1[list_3[i][j]]\n",
        "list_3"
      ],
      "execution_count": 91,
      "outputs": [
        {
          "output_type": "execute_result",
          "data": {
            "text/plain": [
              "[[1, 0], [0, 2], [2, 1], [1, 3]]"
            ]
          },
          "metadata": {
            "tags": []
          },
          "execution_count": 91
        }
      ]
    },
    {
      "cell_type": "code",
      "metadata": {
        "id": "L3IEHSn6XkHJ",
        "colab_type": "code",
        "colab": {
          "base_uri": "https://localhost:8080/",
          "height": 34
        },
        "outputId": "3459c52c-d514-4138-80b6-bfe293f31813"
      },
      "source": [
        "matrix = [[0]*len(list_2) for i in range(len(list_2))]\n",
        "matrix"
      ],
      "execution_count": 94,
      "outputs": [
        {
          "output_type": "execute_result",
          "data": {
            "text/plain": [
              "[[0, 0, 0, 0], [0, 0, 0, 0], [0, 0, 0, 0], [0, 0, 0, 0]]"
            ]
          },
          "metadata": {
            "tags": []
          },
          "execution_count": 94
        }
      ]
    },
    {
      "cell_type": "code",
      "metadata": {
        "id": "KhtlUCxi-LH5",
        "colab_type": "code",
        "colab": {
          "base_uri": "https://localhost:8080/",
          "height": 34
        },
        "outputId": "df8b5654-325f-499f-d913-a5888f2260c5"
      },
      "source": [
        "for i in range(len(list_3)):\n",
        "    for j in range(len(list_3[i])):\n",
        "        try:\n",
        "            matrix[list_3[i][j]][list_3[i][j+1]] = 1\n",
        "            matrix[list_3[i][j+1]][list_3[i][j]] = 1\n",
        "        except:\n",
        "            break\n",
        "matrix"
      ],
      "execution_count": 95,
      "outputs": [
        {
          "output_type": "execute_result",
          "data": {
            "text/plain": [
              "[[0, 1, 1, 0], [1, 0, 1, 1], [1, 1, 0, 0], [0, 1, 0, 0]]"
            ]
          },
          "metadata": {
            "tags": []
          },
          "execution_count": 95
        }
      ]
    },
    {
      "cell_type": "code",
      "metadata": {
        "id": "injig47zYNUY",
        "colab_type": "code",
        "colab": {
          "base_uri": "https://localhost:8080/",
          "height": 86
        },
        "outputId": "b3a24116-b731-490e-ba4c-4062b2ad36f2"
      },
      "source": [
        "count = 0\n",
        "for i in range(len(matrix)):\n",
        "    for j in range(len(matrix[i])):\n",
        "        if matrix[i][j] != 0:\n",
        "            count += 1 \n",
        "            matrix[i][j] = matrix[i][j] / count\n",
        "\n",
        "    for j in range(len(matrix[i])):\n",
        "        \n",
        "    count = 0\n",
        "\n",
        "matrix"
      ],
      "execution_count": 99,
      "outputs": [
        {
          "output_type": "execute_result",
          "data": {
            "text/plain": [
              "[[0.0, 0.25, 0.25, 0.0],\n",
              " [0.1111111111111111, 0.0, 0.1111111111111111, 0.1111111111111111],\n",
              " [0.25, 0.25, 0.0, 0.0],\n",
              " [0.0, 1.0, 0.0, 0.0]]"
            ]
          },
          "metadata": {
            "tags": []
          },
          "execution_count": 99
        }
      ]
    },
    {
      "cell_type": "code",
      "metadata": {
        "id": "Dl9IDks5-hem",
        "colab_type": "code",
        "colab": {}
      },
      "source": [
        ""
      ],
      "execution_count": 95,
      "outputs": []
    },
    {
      "cell_type": "code",
      "metadata": {
        "id": "qbJlUYPb-hg8",
        "colab_type": "code",
        "colab": {}
      },
      "source": [
        ""
      ],
      "execution_count": 95,
      "outputs": []
    },
    {
      "cell_type": "code",
      "metadata": {
        "id": "3tjRH8hU-hjq",
        "colab_type": "code",
        "colab": {}
      },
      "source": [
        ""
      ],
      "execution_count": null,
      "outputs": []
    },
    {
      "cell_type": "code",
      "metadata": {
        "id": "rC2cCdSIBv4P",
        "colab_type": "code",
        "colab": {}
      },
      "source": [
        "class SentenceTokenizer(object):\n",
        "    def __init__(self):\n",
        "        self.kkma = Kkma()\n",
        "        self.twitter = Twitter()\n",
        "        self.stopwords = ['중인' ,'만큼', '마찬가지', '꼬집었', \"연합뉴스\", \"데일리\", \"동아일보\", \"중앙일보\", \"조선일보\", \"기자\"\n",
        "                            ,\"아\", \"휴\", \"아이구\", \"아이쿠\", \"아이고\", \"어\", \"나\", \"우리\", \"저희\", \"따라\", \"의해\", \"을\", \"를\", \"에\", \"의\", \"가\",]\n",
        "\n",
        "    def url2sentences(self, url):\n",
        "        article = Article(url, language='ko')\n",
        "        article.download()\n",
        "        article.parse()\n",
        "        sentences = self.kkma.sentences(article.text)\n",
        "        \n",
        "        for idx in range(0, len(sentences)):\n",
        "            if len(sentences[idx]) <= 10:\n",
        "                sentences[idx-1] += (' ' + sentences[idx])\n",
        "                sentences[idx] = ''\n",
        "        return sentences\n",
        "\n",
        "    def text2sentences(self, text):\n",
        "        sentences = self.kkma.sentences(text)\n",
        "        for idx in range(0, len(sentences)):\n",
        "            if len(sentences[idx]) <= 10:\n",
        "                sentences[idx-1] += (' ' + sentences[idx])\n",
        "                sentences[idx] = ''\n",
        "        return sentences\n",
        "\n",
        "    def get_nouns(self, sentences):\n",
        "        nouns = []\n",
        "        for sentence in sentences:\n",
        "            if sentence is not '':\n",
        "                nouns.append(' '.join([noun for noun in self.twitter.nouns(str(sentence))\n",
        "            if noun not in self.stopwords and len(noun) > 1]))\n",
        "        return nouns"
      ],
      "execution_count": null,
      "outputs": []
    }
  ]
}