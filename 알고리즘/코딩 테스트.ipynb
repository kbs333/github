{
 "metadata": {
  "language_info": {
   "codemirror_mode": {
    "name": "ipython",
    "version": 3
   },
   "file_extension": ".py",
   "mimetype": "text/x-python",
   "name": "python",
   "nbconvert_exporter": "python",
   "pygments_lexer": "ipython3",
   "version": "3.7.7-final"
  },
  "orig_nbformat": 2,
  "kernelspec": {
   "name": "python_defaultSpec_1599800306530",
   "display_name": "Python 3.7.7 64-bit ('nlp': conda)"
  }
 },
 "nbformat": 4,
 "nbformat_minor": 2,
 "cells": [
  {
   "source": [
    "## 문자열 압축"
   ],
   "cell_type": "markdown",
   "metadata": {}
  },
  {
   "cell_type": "code",
   "execution_count": 1,
   "metadata": {},
   "outputs": [],
   "source": [
    "def solution(s):\n",
    "\n",
    "    win = 1\n",
    "    min_len = 0\n",
    "    while len(s) // 2 >= win:\n",
    "        i = 0\n",
    "        alpha = []\n",
    "        while i < len(s):\n",
    "            alpha.append(s[i:i+win])\n",
    "            i = i+win\n",
    "        \n",
    "        j = 0\n",
    "        cnt = 1\n",
    "        cnt_alpha = \"\"\n",
    "        while j+cnt < len(alpha):\n",
    "            if alpha[j] != alpha[j+cnt] and cnt == 1:\n",
    "                cnt_alpha += alpha[j]\n",
    "                j = j+cnt\n",
    "                cnt = 0\n",
    "            elif alpha[j] != alpha[j+cnt] and cnt > 1:\n",
    "                cnt_alpha += alpha[j] + str(cnt)\n",
    "                j = j+cnt\n",
    "                cnt = 0\n",
    "\n",
    "            cnt += 1\n",
    "\n",
    "            if j+cnt == len(alpha) and cnt == 1:\n",
    "                cnt_alpha += alpha[j]\n",
    "            elif j+cnt == len(alpha) and cnt > 1:\n",
    "                cnt_alpha += alpha[j] + str(cnt)\n",
    "\n",
    "        if min_len == 0:\n",
    "            min_len = len(cnt_alpha)\n",
    "        elif min_len > len(cnt_alpha):\n",
    "            min_len = len(cnt_alpha)\n",
    "            \n",
    "        win += 1\n",
    "    return min_len"
   ]
  }
 ]
}